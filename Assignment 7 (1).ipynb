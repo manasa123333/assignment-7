{
 "cells": [
  {
   "cell_type": "markdown",
   "id": "2df64dd2-d79b-4db9-bc83-c958c71bc007",
   "metadata": {},
   "source": [
    "Q1. Create a function which will take a list as an argument and return the product of all the numbers  after creating a flat list. \n",
    "Use the below-given list as an argument for your function. \n",
    "list1 = [1,2,3,4, [44,55,66, True], False, (34,56,78,89,34), {1,2,3,3,2,1}, {1:34, \"key2\": [55, 67, 78, 89], 4: (45,  22, 61, 34)}, [56, 'data science'], 'Machine Learning'] \n",
    "Note: you must extract numeric keys and values of the dictionary also. \n"
   ]
  },
  {
   "cell_type": "code",
   "execution_count": 13,
   "id": "e9aaa2a4-bf7c-43a7-a7b4-da5f808d9813",
   "metadata": {},
   "outputs": [],
   "source": [
    "list1 = [1,2,3,4, [44,55,66, True], False, (34,56,78,89,34), {1,2,3,3,2,1}, {1:34, \"key2\": [55, 67, 78, 89], 4: (45, 22, 61, 34)}, [56, 'data science'], 'Machine Learning']"
   ]
  },
  {
   "cell_type": "code",
   "execution_count": null,
   "id": "96317273-b0ae-4910-ae8a-e2495a92dbc8",
   "metadata": {},
   "outputs": [],
   "source": [
    "def product_after_flat(list_given):\n",
    "    g=[]\n",
    "    for i in list_given:\n",
    "        if type(i)==int or type(i)==str or type(i)==bool or type(i)==float:\n",
    "            g.append(i)\n",
    "        \n",
    "        elif type(i)==list or type(i)==tuple or type(i)==set:\n",
    "            for j in i:\n",
    "                if type(j)==list or type(j)==tuple:\n",
    "                    for k in j:\n",
    "                        g.append(k)\n",
    "                    \n",
    "                elif type(j)!=list:\n",
    "                    g.append(j)\n",
    "     \n",
    "        elif type(i)==dict:\n",
    "            for j in i.values():\n",
    "                if type(j)==int or type(j)==bool or type(j)==str or type(j)==float:\n",
    "                    g.append(j)\n",
    "                elif type(j)==list or type(j)==tuple or type(j)==set:\n",
    "                    for k in j:\n",
    "                        g.append(k)\n",
    "                elif type(j)==dict:\n",
    "                    for k in j.values():\n",
    "                        if type(k)==int or type(k)==bool or type(k)==str or type(k)==float:\n",
    "                            g.append(k)\n",
    "                        elif type(k)==list or type(k)==tuple or type(k)==set:\n",
    "                            for p in k:\n",
    "                                g.append(p)\n",
    "                            \n",
    "                    for k in j.keys():\n",
    "                        g.append(k)\n",
    "                \n",
    "            for j in i.keys():  \n",
    "                g.append(j)\n",
    "     \n",
    "    c=1\n",
    "    for k in g:\n",
    "        if type(k)==int or type(k)==float:\n",
    "            c=c*k\n",
    "    return  c"
   ]
  },
  {
   "cell_type": "code",
   "execution_count": 44,
   "id": "0d53da2b-a699-4771-a5df-dba7d51537b0",
   "metadata": {},
   "outputs": [
    {
     "data": {
      "text/plain": [
       "335621713680284480844595200"
      ]
     },
     "execution_count": 44,
     "metadata": {},
     "output_type": "execute_result"
    }
   ],
   "source": [
    "product(list1)"
   ]
  },
  {
   "cell_type": "markdown",
   "id": "04649920-6abb-4699-8aa7-8e2b6edc10d4",
   "metadata": {},
   "source": [
    "Q2. Write a python program for encrypting a message sent to you by your friend. The logic of encryption  should be such that, for a the output should be z. For b, the output should be y. For c, the output should  be x respectively. Also, the whitespace should be replaced with a dollar sign. Keep the punctuation  marks unchanged. \n",
    "Input Sentence: I want to become a Data Scientist. \n",
    "Encrypt the above input sentence using the program you just created.\n"
   ]
  },
  {
   "cell_type": "code",
   "execution_count": 1,
   "id": "f8640f40-c2ea-44d7-82a7-16aaf5172a42",
   "metadata": {},
   "outputs": [
    {
     "data": {
      "text/plain": [
       "'zyxwvutsrqponmlkjihgfedcba'"
      ]
     },
     "execution_count": 1,
     "metadata": {},
     "output_type": "execute_result"
    }
   ],
   "source": [
    "name='abcdefghijklmnopqrstuvwxyz'\n",
    "reverse=\"\".join(reversed(name))\n",
    "reverse"
   ]
  },
  {
   "cell_type": "code",
   "execution_count": 2,
   "id": "9915c863-cb8e-4c37-8fd3-f19bc6ff248f",
   "metadata": {},
   "outputs": [
    {
     "data": {
      "text/plain": [
       "{'a': 'z',\n",
       " 'b': 'y',\n",
       " 'c': 'x',\n",
       " 'd': 'w',\n",
       " 'e': 'v',\n",
       " 'f': 'u',\n",
       " 'g': 't',\n",
       " 'h': 's',\n",
       " 'i': 'r',\n",
       " 'j': 'q',\n",
       " 'k': 'p',\n",
       " 'l': 'o',\n",
       " 'm': 'n',\n",
       " 'n': 'm',\n",
       " 'o': 'l',\n",
       " 'p': 'k',\n",
       " 'q': 'j',\n",
       " 'r': 'i',\n",
       " 's': 'h',\n",
       " 't': 'g',\n",
       " 'u': 'f',\n",
       " 'v': 'e',\n",
       " 'w': 'd',\n",
       " 'x': 'c',\n",
       " 'y': 'b',\n",
       " 'z': 'a'}"
      ]
     },
     "execution_count": 2,
     "metadata": {},
     "output_type": "execute_result"
    }
   ],
   "source": [
    "d={}\n",
    "for i in range(0,26):\n",
    "    d[name[i]]=str(reverse[i])\n",
    "d"
   ]
  },
  {
   "cell_type": "code",
   "execution_count": 5,
   "id": "e22a4b01-5cf9-4191-a0b8-853bd74a09d6",
   "metadata": {},
   "outputs": [
    {
     "name": "stdout",
     "output_type": "stream",
     "text": [
      "r$dzmg$gl$yvxlnv$z$wzgz$hxrvmgrhg"
     ]
    }
   ],
   "source": [
    "string=\"I want to become a Data Scientist\"\n",
    "for i in string.lower():\n",
    "    if i!=\" \":\n",
    "        print(d[i],end=\"\")\n",
    "    elif i==\" \":\n",
    "        print('$',end = \"\")"
   ]
  },
  {
   "cell_type": "code",
   "execution_count": null,
   "id": "b3ccc09b-3206-473f-839f-6d2276595ae7",
   "metadata": {},
   "outputs": [],
   "source": []
  }
 ],
 "metadata": {
  "kernelspec": {
   "display_name": "Python 3 (ipykernel)",
   "language": "python",
   "name": "python3"
  },
  "language_info": {
   "codemirror_mode": {
    "name": "ipython",
    "version": 3
   },
   "file_extension": ".py",
   "mimetype": "text/x-python",
   "name": "python",
   "nbconvert_exporter": "python",
   "pygments_lexer": "ipython3",
   "version": "3.10.8"
  }
 },
 "nbformat": 4,
 "nbformat_minor": 5
}
