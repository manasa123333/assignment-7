{
 "cells": [
  {
   "cell_type": "markdown",
   "id": "2df64dd2-d79b-4db9-bc83-c958c71bc007",
   "metadata": {},
   "source": [
    "Q1. Create a function which will take a list as an argument and return the product of all the numbers  after creating a flat list. \n",
    "Use the below-given list as an argument for your function. \n",
    "list1 = [1,2,3,4, [44,55,66, True], False, (34,56,78,89,34), {1,2,3,3,2,1}, {1:34, \"key2\": [55, 67, 78, 89], 4: (45,  22, 61, 34)}, [56, 'data science'], 'Machine Learning'] \n",
    "Note: you must extract numeric keys and values of the dictionary also. \n"
   ]
  },
  {
   "cell_type": "code",
   "execution_count": 13,
   "id": "e9aaa2a4-bf7c-43a7-a7b4-da5f808d9813",
   "metadata": {},
   "outputs": [],
   "source": [
    "list1 = [1,2,3,4, [44,55,66, True], False, (34,56,78,89,34), {1,2,3,3,2,1}, {1:34, \"key2\": [55, 67, 78, 89], 4: (45, 22, 61, 34)}, [56, 'data science'], 'Machine Learning']"
   ]
  },
  {
   "cell_type": "code",
   "execution_count": 43,
   "id": "6212b5da-79a2-44d7-b3b4-b957881a20fd",
   "metadata": {},
   "outputs": [],
   "source": [
    "def product(lst):\n",
    "    flat_list = []\n",
    "    for item in lst:\n",
    "        if type(item) == list or type(item) == tuple:\n",
    "            flat_list.extend(item)\n",
    "        elif type(item) == dict:\n",
    "            for key, value in item.items():\n",
    "                if type(key) == int or type(value) == int:\n",
    "                    flat_list.append(key)\n",
    "                    flat_list.append(value)\n",
    "                elif type(value) == list or type(value) == tuple:\n",
    "                    flat_list.extend(value)\n",
    "        elif type(item) == int:\n",
    "            flat_list.append(item)\n",
    "    \n",
    "    product = 1\n",
    "    for i in flat_list:\n",
    "        \n",
    "        if type(i) == int:\n",
    "            product *= i\n",
    "    return product\n",
    "    \n",
    "        \n",
    "    "
   ]
  },
  {
   "cell_type": "code",
   "execution_count": 44,
   "id": "0d53da2b-a699-4771-a5df-dba7d51537b0",
   "metadata": {},
   "outputs": [
    {
     "data": {
      "text/plain": [
       "335621713680284480844595200"
      ]
     },
     "execution_count": 44,
     "metadata": {},
     "output_type": "execute_result"
    }
   ],
   "source": [
    "product(list1)"
   ]
  },
  {
   "cell_type": "code",
   "execution_count": 2,
   "id": "28927145-608e-47db-b2ec-3a932ec4f7e5",
   "metadata": {},
   "outputs": [
    {
     "data": {
      "text/plain": [
       "'@ield'"
      ]
     },
     "execution_count": 2,
     "metadata": {},
     "output_type": "execute_result"
    }
   ],
   "source": [
    "a =\"yield\"\n",
    "a = a.replace(\"y\",\"@\")\n",
    "a"
   ]
  },
  {
   "cell_type": "markdown",
   "id": "04649920-6abb-4699-8aa7-8e2b6edc10d4",
   "metadata": {},
   "source": [
    "Q2. Write a python program for encrypting a message sent to you by your friend. The logic of encryption  should be such that, for a the output should be z. For b, the output should be y. For c, the output should  be x respectively. Also, the whitespace should be replaced with a dollar sign. Keep the punctuation  marks unchanged. \n",
    "Input Sentence: I want to become a Data Scientist. \n",
    "Encrypt the above input sentence using the program you just created.\n"
   ]
  },
  {
   "cell_type": "code",
   "execution_count": 4,
   "id": "b3f13574-34a4-48ef-8118-6df15a0e0dbb",
   "metadata": {},
   "outputs": [
    {
     "name": "stdout",
     "output_type": "stream",
     "text": [
      "The original string is : I want to become to become a Data Scientist\n",
      "The encripted string is : i$want$to$become$to$become$a$data$scientist\n"
     ]
    }
   ],
   "source": [
    "string = \"I want to become to become a Data Scientist\"\n",
    "string1 = string.lower()\n",
    "encript = string1.replace('a','z')\n",
    "encript = encript.replace('b','y')\n",
    "encript = enc.replace('c','x')\n",
    "encript = string1.replace(' ','$')\n",
    "\n",
    "print(\"The original string is :\",string)\n",
    "print(\"The encripted string is :\",encript)"
   ]
  },
  {
   "cell_type": "code",
   "execution_count": null,
   "id": "b856f12b-d453-475d-abb4-3825e1077e96",
   "metadata": {},
   "outputs": [],
   "source": []
  }
 ],
 "metadata": {
  "kernelspec": {
   "display_name": "Python 3 (ipykernel)",
   "language": "python",
   "name": "python3"
  },
  "language_info": {
   "codemirror_mode": {
    "name": "ipython",
    "version": 3
   },
   "file_extension": ".py",
   "mimetype": "text/x-python",
   "name": "python",
   "nbconvert_exporter": "python",
   "pygments_lexer": "ipython3",
   "version": "3.10.8"
  }
 },
 "nbformat": 4,
 "nbformat_minor": 5
}
